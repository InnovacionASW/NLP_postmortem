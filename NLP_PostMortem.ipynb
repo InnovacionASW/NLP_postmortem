{
 "cells": [
  {
   "cell_type": "markdown",
   "metadata": {},
   "source": [
    "<img src=\"img/Asesoftware_logo.png\" width=\"200\" height=\"100\">\n",
    "## <center>MODELO WORD2VEC (WORD EMBEDDINGS) EN DOCUMENTOS POSTMORTEM</center>\n",
    "<center>\n",
    "    <h3>Autor: <i>Álvaro Valbuena</i></h3>\n",
    "    <h4><i>avalbuena@asesoftware.com</i></h4>\n",
    "    <h3>Área de Innovación</h3>\n",
    "</center>"
   ]
  },
  {
   "cell_type": "markdown",
   "metadata": {},
   "source": [
    "__Representaciones Vectoriales con Word2Vec__\n",
    "\n",
    "_Word2Vec_ es una aproximación que nos ayuda a crear vectores similares para palabras similares. Las palabras que estan relacionadas son mapeadas a puntos que estan cercanos entre si en un espacio dimensional. Los modelos Word2Vec tiene las siguientes ventajas:\n",
    "\n",
    "- Wor2Vec se construye sobre el hecho de que las palabras que comparten contextos también comparten significados semánticos.\n",
    "\n",
    "- Los modelos Wor2Vec predicen una palabra usando sus vecinos a travez del aprendizaje de vectores densos llamados __embeddings__.\n",
    "\n",
    "- Los modelos Wor2Vec tambien son eficientes computacionalmente.\n",
    "\n",
    "- Wor2Vec son modelos no supervizados que aprenden de embeddings de texto bruto.\n",
    "\n",
    "- Son dos los modelos Wor2Vec: __CBOW__ (Cuando la palabra target es predicha usando las palabras contexto) y __Skip-gramv__ (Cuando las palabras contexto son predichas usando la palabra target)"
   ]
  },
  {
   "cell_type": "markdown",
   "metadata": {},
   "source": [
    "Word2vec es una red neuronal de 3 capas (Capa de entrada, capa oculta y capa de salida). La capa intermedia (capa oculta) contruye una representación latente para que las palabras de entrada se transformen en la representación del vector de salida.\n",
    "\n",
    "En la representación vectorial de las palabras de Word2Vec se pueden encontrar relaciones matemáticas interesantes como\n",
    "\n",
    "<center>$king - man = queen - woman$</center>\n",
    "\n",
    "Ejemplo:\n",
    "\n",
    "Tenemos las siguientes dos frases:\n",
    "\n",
    "- I like watching a movie.\n",
    "- I enjoy watching a movie.\n",
    "\n",
    "Siguiendo el modelo CBOW y tomando las palabras contexto como entrada y tratamos de predecir la palabra target, entonces la salida sería como sigue:\n",
    "\n",
    "![cbow_01](img/cbow_01.jpg)\n",
    "\n",
    "Una forma vectorizada de la entrada y salida luciría algo así:\n",
    "\n",
    "![cbow_02](img/cbow_02.png)\n",
    "\n",
    "En la red neuronal para nuestro ejemplo , habrían 3 neuronas en la capa oculta y en la capa de salida habrían 5 neuronas con funciones _softmax_ de modo que nos darán las probabilidades de las palabras.\n",
    "\n",
    "![NN](img/nn.png)"
   ]
  },
  {
   "cell_type": "markdown",
   "metadata": {},
   "source": [
    "### <CENTER>CODIGO EN PYTHON DE WORD2VEC SOBRE LOS DOCUMENTOS POSTMORTEM"
   ]
  },
  {
   "cell_type": "markdown",
   "metadata": {},
   "source": [
    "### Librerías necesarias"
   ]
  },
  {
   "cell_type": "markdown",
   "metadata": {},
   "source": [
    "#### Descargar paquetes"
   ]
  },
  {
   "cell_type": "code",
   "execution_count": null,
   "metadata": {},
   "outputs": [],
   "source": [
    "!conda install -c anaconda pandas -y"
   ]
  },
  {
   "cell_type": "code",
   "execution_count": null,
   "metadata": {},
   "outputs": [],
   "source": [
    "!conda install -c anaconda numpy -y"
   ]
  },
  {
   "cell_type": "code",
   "execution_count": null,
   "metadata": {},
   "outputs": [],
   "source": [
    "!conda install -c anaconda gensim -y"
   ]
  },
  {
   "cell_type": "code",
   "execution_count": null,
   "metadata": {},
   "outputs": [],
   "source": [
    "!conda install -c conda-forge multiprocess -y"
   ]
  },
  {
   "cell_type": "code",
   "execution_count": null,
   "metadata": {},
   "outputs": [],
   "source": [
    "!conda install -c conda-forge spacy -y"
   ]
  },
  {
   "cell_type": "code",
   "execution_count": null,
   "metadata": {},
   "outputs": [],
   "source": [
    "!python -m spacy download es_core_news_md"
   ]
  },
  {
   "cell_type": "code",
   "execution_count": 1,
   "metadata": {},
   "outputs": [],
   "source": [
    "import warnings\n",
    "warnings.simplefilter('ignore')\n",
    "\n",
    "import pandas as pd\n",
    "import numpy as np\n",
    "\n",
    "from gensim.models import Word2Vec\n",
    "import multiprocessing\n",
    "\n",
    "import spacy"
   ]
  },
  {
   "cell_type": "markdown",
   "metadata": {},
   "source": [
    "Nos ayudaremos de spacy para obtener una lista de stopwords"
   ]
  },
  {
   "cell_type": "code",
   "execution_count": 2,
   "metadata": {},
   "outputs": [],
   "source": [
    "nlp = spacy.load('es_core_news_md', disable=['tagger', 'parser', 'ner'])"
   ]
  },
  {
   "cell_type": "markdown",
   "metadata": {},
   "source": [
    "Algunas funciones necesarias"
   ]
  },
  {
   "cell_type": "code",
   "execution_count": 3,
   "metadata": {},
   "outputs": [],
   "source": [
    "#Esta función concatena una serie de pandas\n",
    "def concat_text(pdSeries):\n",
    "    pdSeries = pdSeries.str.rstrip('.')\n",
    "    return pdSeries.str.cat(sep='. ')\n",
    "\n",
    "\n",
    "#Esta función lematiza y elimina las stopwords\n",
    "def cleaning(doc):    \n",
    "    txt = [token.text for token in doc if not token.is_stop]\n",
    "    if len(txt) > 2:\n",
    "        return ' '.join(txt)\n",
    "    \n",
    "\n",
    "#Esta función filtra stopwords de una lista\n",
    "def filter_stopwords(answ, stopwords):\n",
    "    ans_flt = [token for token in answ if not token[0] in stopwords]\n",
    "    return ans_flt"
   ]
  },
  {
   "cell_type": "markdown",
   "metadata": {},
   "source": [
    "Carga y visualización de los datos"
   ]
  },
  {
   "cell_type": "code",
   "execution_count": 4,
   "metadata": {},
   "outputs": [
    {
     "data": {
      "text/html": [
       "<div>\n",
       "<style scoped>\n",
       "    .dataframe tbody tr th:only-of-type {\n",
       "        vertical-align: middle;\n",
       "    }\n",
       "\n",
       "    .dataframe tbody tr th {\n",
       "        vertical-align: top;\n",
       "    }\n",
       "\n",
       "    .dataframe thead th {\n",
       "        text-align: right;\n",
       "    }\n",
       "</style>\n",
       "<table border=\"1\" class=\"dataframe\">\n",
       "  <thead>\n",
       "    <tr style=\"text-align: right;\">\n",
       "      <th></th>\n",
       "      <th>PROYECTO</th>\n",
       "      <th>TIPO PROYECTO</th>\n",
       "      <th>CLIENTE</th>\n",
       "      <th>FECHA DE INICIO</th>\n",
       "      <th>FECHA FINAL</th>\n",
       "      <th>CONTEXTO</th>\n",
       "      <th>LECCIONES APRENDIDAS</th>\n",
       "      <th>Davi Cargue</th>\n",
       "      <th>SWEBOK</th>\n",
       "      <th>Practices</th>\n",
       "      <th>Paradigma</th>\n",
       "      <th>Tecnologia</th>\n",
       "      <th>Equipo trabajo</th>\n",
       "      <th>Aporte</th>\n",
       "      <th>IMPACTO</th>\n",
       "      <th>FASE</th>\n",
       "      <th>DURACION</th>\n",
       "      <th>Selección</th>\n",
       "    </tr>\n",
       "  </thead>\n",
       "  <tbody>\n",
       "    <tr>\n",
       "      <td>0</td>\n",
       "      <td>CO_625 SODIMAC FABRICA</td>\n",
       "      <td>MANTENIMIENTO</td>\n",
       "      <td>SODIMAC</td>\n",
       "      <td>2018-02-15</td>\n",
       "      <td>2018-09-19</td>\n",
       "      <td>Se planeo dentro del sprint la participación d...</td>\n",
       "      <td>Se deben incluir revisiones de UX en los proce...</td>\n",
       "      <td>NaN</td>\n",
       "      <td>Requirements, Quality</td>\n",
       "      <td>NaN</td>\n",
       "      <td>UX</td>\n",
       "      <td>NaN</td>\n",
       "      <td>NaN</td>\n",
       "      <td>NaN</td>\n",
       "      <td>POSITIVO</td>\n",
       "      <td>CALIDAD</td>\n",
       "      <td>513</td>\n",
       "      <td>NaN</td>\n",
       "    </tr>\n",
       "    <tr>\n",
       "      <td>1</td>\n",
       "      <td>CO_625 SODIMAC FABRICA</td>\n",
       "      <td>MANTENIMIENTO</td>\n",
       "      <td>SODIMAC</td>\n",
       "      <td>2018-02-15</td>\n",
       "      <td>2018-09-19</td>\n",
       "      <td>Integrantes de parte de Sodimac debian constru...</td>\n",
       "      <td>Asegurar que la planeación y ejecución del Spr...</td>\n",
       "      <td>NaN</td>\n",
       "      <td>Design, Management</td>\n",
       "      <td>NaN</td>\n",
       "      <td>NaN</td>\n",
       "      <td>NaN</td>\n",
       "      <td>NaN</td>\n",
       "      <td>NaN</td>\n",
       "      <td>POSITIVO</td>\n",
       "      <td>CONSTRUCCION</td>\n",
       "      <td>513</td>\n",
       "      <td>NaN</td>\n",
       "    </tr>\n",
       "    <tr>\n",
       "      <td>2</td>\n",
       "      <td>CO_625 SODIMAC FABRICA</td>\n",
       "      <td>MANTENIMIENTO</td>\n",
       "      <td>SODIMAC</td>\n",
       "      <td>2018-02-15</td>\n",
       "      <td>2018-09-19</td>\n",
       "      <td>Se presentó el cambio de tres analistas de cal...</td>\n",
       "      <td>Se presentan demoras en el acoplamiento del eq...</td>\n",
       "      <td>NaN</td>\n",
       "      <td>Management</td>\n",
       "      <td>NaN</td>\n",
       "      <td>NaN</td>\n",
       "      <td>NaN</td>\n",
       "      <td>Rotación</td>\n",
       "      <td>NaN</td>\n",
       "      <td>NEGATIVO</td>\n",
       "      <td>CALIDAD</td>\n",
       "      <td>513</td>\n",
       "      <td>NaN</td>\n",
       "    </tr>\n",
       "    <tr>\n",
       "      <td>3</td>\n",
       "      <td>CO_625 SODIMAC FABRICA</td>\n",
       "      <td>MANTENIMIENTO</td>\n",
       "      <td>SODIMAC</td>\n",
       "      <td>2018-02-15</td>\n",
       "      <td>2018-09-19</td>\n",
       "      <td>Cuando en pruebas de aceptación se generaban d...</td>\n",
       "      <td>Se estableció la generación de ramas para cada...</td>\n",
       "      <td>NaN</td>\n",
       "      <td>ConfigurationManagement</td>\n",
       "      <td>NaN</td>\n",
       "      <td>NaN</td>\n",
       "      <td>NaN</td>\n",
       "      <td>NaN</td>\n",
       "      <td>NaN</td>\n",
       "      <td>POSITIVO</td>\n",
       "      <td>CONSTRUCCION</td>\n",
       "      <td>513</td>\n",
       "      <td>NaN</td>\n",
       "    </tr>\n",
       "    <tr>\n",
       "      <td>4</td>\n",
       "      <td>CO_625 SODIMAC FABRICA</td>\n",
       "      <td>MANTENIMIENTO</td>\n",
       "      <td>SODIMAC</td>\n",
       "      <td>2018-02-15</td>\n",
       "      <td>2018-09-19</td>\n",
       "      <td>Asesoftware participó en la definición,\\n cons...</td>\n",
       "      <td>La definición, modelo de implementación técnic...</td>\n",
       "      <td>NaN</td>\n",
       "      <td>NaN</td>\n",
       "      <td>NaN</td>\n",
       "      <td>Pasarela pagos</td>\n",
       "      <td>NaN</td>\n",
       "      <td>Dominio tecnologico</td>\n",
       "      <td>NaN</td>\n",
       "      <td>POSITIVO</td>\n",
       "      <td>CONSTRUCCION</td>\n",
       "      <td>513</td>\n",
       "      <td>NaN</td>\n",
       "    </tr>\n",
       "  </tbody>\n",
       "</table>\n",
       "</div>"
      ],
      "text/plain": [
       "                 PROYECTO  TIPO PROYECTO  CLIENTE FECHA DE INICIO FECHA FINAL  \\\n",
       "0  CO_625 SODIMAC FABRICA  MANTENIMIENTO  SODIMAC      2018-02-15  2018-09-19   \n",
       "1  CO_625 SODIMAC FABRICA  MANTENIMIENTO  SODIMAC      2018-02-15  2018-09-19   \n",
       "2  CO_625 SODIMAC FABRICA  MANTENIMIENTO  SODIMAC      2018-02-15  2018-09-19   \n",
       "3  CO_625 SODIMAC FABRICA  MANTENIMIENTO  SODIMAC      2018-02-15  2018-09-19   \n",
       "4  CO_625 SODIMAC FABRICA  MANTENIMIENTO  SODIMAC      2018-02-15  2018-09-19   \n",
       "\n",
       "                                            CONTEXTO  \\\n",
       "0  Se planeo dentro del sprint la participación d...   \n",
       "1  Integrantes de parte de Sodimac debian constru...   \n",
       "2  Se presentó el cambio de tres analistas de cal...   \n",
       "3  Cuando en pruebas de aceptación se generaban d...   \n",
       "4  Asesoftware participó en la definición,\\n cons...   \n",
       "\n",
       "                                LECCIONES APRENDIDAS Davi Cargue  \\\n",
       "0  Se deben incluir revisiones de UX en los proce...         NaN   \n",
       "1  Asegurar que la planeación y ejecución del Spr...         NaN   \n",
       "2  Se presentan demoras en el acoplamiento del eq...         NaN   \n",
       "3  Se estableció la generación de ramas para cada...         NaN   \n",
       "4  La definición, modelo de implementación técnic...         NaN   \n",
       "\n",
       "                    SWEBOK Practices       Paradigma Tecnologia  \\\n",
       "0    Requirements, Quality       NaN              UX        NaN   \n",
       "1       Design, Management       NaN             NaN        NaN   \n",
       "2               Management       NaN             NaN        NaN   \n",
       "3  ConfigurationManagement       NaN             NaN        NaN   \n",
       "4                      NaN       NaN  Pasarela pagos        NaN   \n",
       "\n",
       "        Equipo trabajo Aporte   IMPACTO          FASE  DURACION Selección  \n",
       "0                  NaN    NaN  POSITIVO       CALIDAD       513       NaN  \n",
       "1                  NaN    NaN  POSITIVO  CONSTRUCCION       513       NaN  \n",
       "2             Rotación    NaN  NEGATIVO       CALIDAD       513       NaN  \n",
       "3                  NaN    NaN  POSITIVO  CONSTRUCCION       513       NaN  \n",
       "4  Dominio tecnologico    NaN  POSITIVO  CONSTRUCCION       513       NaN  "
      ]
     },
     "execution_count": 4,
     "metadata": {},
     "output_type": "execute_result"
    }
   ],
   "source": [
    "data = pd.read_excel(\"data\\REPOSITORIO_LECCIONES APRENDIDAS.xlsx\", sheet_name=0)\n",
    "data.head()"
   ]
  },
  {
   "cell_type": "markdown",
   "metadata": {},
   "source": [
    "Como podemos ver, no hay vacíos en las columnas \"CONTEXTO\" y \"LECCIONES APRENDIDAS\""
   ]
  },
  {
   "cell_type": "code",
   "execution_count": 5,
   "metadata": {},
   "outputs": [
    {
     "data": {
      "text/plain": [
       "CONTEXTO                0\n",
       "LECCIONES APRENDIDAS    0\n",
       "dtype: int64"
      ]
     },
     "execution_count": 5,
     "metadata": {},
     "output_type": "execute_result"
    }
   ],
   "source": [
    "data[['CONTEXTO','LECCIONES APRENDIDAS']].isna().sum()"
   ]
  },
  {
   "cell_type": "markdown",
   "metadata": {},
   "source": [
    "Ahora tomaremos solo el contexto y las lecciones aprendidas. Esto es debido a que nos interesan las lecciones aprendidas pero estas ocurren bajo un contexto"
   ]
  },
  {
   "cell_type": "code",
   "execution_count": 6,
   "metadata": {},
   "outputs": [],
   "source": [
    "data = data[['CONTEXTO','LECCIONES APRENDIDAS']]"
   ]
  },
  {
   "cell_type": "markdown",
   "metadata": {},
   "source": [
    "Ahora crearemos una nueva columna en el dataframe que se llamará __CONTEX_LECC__ la cual tendrá la concatenación del contexto con la lección aprendida. También eliminaremos los saltos de línea y reemplazaremos los multiples espacios por uno solo. Finalmente, habrá un punto seguido entre un contexto y una lección aprendida."
   ]
  },
  {
   "cell_type": "code",
   "execution_count": 7,
   "metadata": {},
   "outputs": [
    {
     "data": {
      "text/html": [
       "<div>\n",
       "<style scoped>\n",
       "    .dataframe tbody tr th:only-of-type {\n",
       "        vertical-align: middle;\n",
       "    }\n",
       "\n",
       "    .dataframe tbody tr th {\n",
       "        vertical-align: top;\n",
       "    }\n",
       "\n",
       "    .dataframe thead th {\n",
       "        text-align: right;\n",
       "    }\n",
       "</style>\n",
       "<table border=\"1\" class=\"dataframe\">\n",
       "  <thead>\n",
       "    <tr style=\"text-align: right;\">\n",
       "      <th></th>\n",
       "      <th>CONTEXTO</th>\n",
       "      <th>LECCIONES APRENDIDAS</th>\n",
       "      <th>CONTEX_LECC</th>\n",
       "    </tr>\n",
       "  </thead>\n",
       "  <tbody>\n",
       "    <tr>\n",
       "      <td>0</td>\n",
       "      <td>Se planeo dentro del sprint la participación d...</td>\n",
       "      <td>Se deben incluir revisiones de UX en los proce...</td>\n",
       "      <td>Se planeo dentro del sprint la participación d...</td>\n",
       "    </tr>\n",
       "    <tr>\n",
       "      <td>1</td>\n",
       "      <td>Integrantes de parte de Sodimac debian constru...</td>\n",
       "      <td>Asegurar que la planeación y ejecución del Spr...</td>\n",
       "      <td>Integrantes de parte de Sodimac debian constru...</td>\n",
       "    </tr>\n",
       "    <tr>\n",
       "      <td>2</td>\n",
       "      <td>Se presentó el cambio de tres analistas de cal...</td>\n",
       "      <td>Se presentan demoras en el acoplamiento del eq...</td>\n",
       "      <td>Se presentó el cambio de tres analistas de cal...</td>\n",
       "    </tr>\n",
       "    <tr>\n",
       "      <td>3</td>\n",
       "      <td>Cuando en pruebas de aceptación se generaban d...</td>\n",
       "      <td>Se estableció la generación de ramas para cada...</td>\n",
       "      <td>Cuando en pruebas de aceptación se generaban d...</td>\n",
       "    </tr>\n",
       "    <tr>\n",
       "      <td>4</td>\n",
       "      <td>Asesoftware participó en la definición,\\n cons...</td>\n",
       "      <td>La definición, modelo de implementación técnic...</td>\n",
       "      <td>Asesoftware participó en la definición,  const...</td>\n",
       "    </tr>\n",
       "  </tbody>\n",
       "</table>\n",
       "</div>"
      ],
      "text/plain": [
       "                                            CONTEXTO  \\\n",
       "0  Se planeo dentro del sprint la participación d...   \n",
       "1  Integrantes de parte de Sodimac debian constru...   \n",
       "2  Se presentó el cambio de tres analistas de cal...   \n",
       "3  Cuando en pruebas de aceptación se generaban d...   \n",
       "4  Asesoftware participó en la definición,\\n cons...   \n",
       "\n",
       "                                LECCIONES APRENDIDAS  \\\n",
       "0  Se deben incluir revisiones de UX en los proce...   \n",
       "1  Asegurar que la planeación y ejecución del Spr...   \n",
       "2  Se presentan demoras en el acoplamiento del eq...   \n",
       "3  Se estableció la generación de ramas para cada...   \n",
       "4  La definición, modelo de implementación técnic...   \n",
       "\n",
       "                                         CONTEX_LECC  \n",
       "0  Se planeo dentro del sprint la participación d...  \n",
       "1  Integrantes de parte de Sodimac debian constru...  \n",
       "2  Se presentó el cambio de tres analistas de cal...  \n",
       "3  Cuando en pruebas de aceptación se generaban d...  \n",
       "4  Asesoftware participó en la definición,  const...  "
      ]
     },
     "execution_count": 7,
     "metadata": {},
     "output_type": "execute_result"
    }
   ],
   "source": [
    "data[\"CONTEX_LECC\"] = [concat_text(i[1]) for i in data[['CONTEXTO', 'LECCIONES APRENDIDAS']].iterrows()]\n",
    "data.CONTEX_LECC = data.CONTEX_LECC.str.replace('\\n', ' ').replace('\\s+', ' ')\n",
    "data.head()"
   ]
  },
  {
   "cell_type": "markdown",
   "metadata": {},
   "source": [
    "Estandarización y tokenización del texto. Nuestra estandarización será transformar las letras mayúsculas a minúsculas y la eliminación de la puntuación. El resultado se verá en la columna __CLEANED_CONTEX_LECC__"
   ]
  },
  {
   "cell_type": "code",
   "execution_count": 8,
   "metadata": {},
   "outputs": [
    {
     "data": {
      "text/html": [
       "<div>\n",
       "<style scoped>\n",
       "    .dataframe tbody tr th:only-of-type {\n",
       "        vertical-align: middle;\n",
       "    }\n",
       "\n",
       "    .dataframe tbody tr th {\n",
       "        vertical-align: top;\n",
       "    }\n",
       "\n",
       "    .dataframe thead th {\n",
       "        text-align: right;\n",
       "    }\n",
       "</style>\n",
       "<table border=\"1\" class=\"dataframe\">\n",
       "  <thead>\n",
       "    <tr style=\"text-align: right;\">\n",
       "      <th></th>\n",
       "      <th>CONTEXTO</th>\n",
       "      <th>LECCIONES APRENDIDAS</th>\n",
       "      <th>CONTEX_LECC</th>\n",
       "      <th>CLEANED_CONTEX_LECC</th>\n",
       "    </tr>\n",
       "  </thead>\n",
       "  <tbody>\n",
       "    <tr>\n",
       "      <td>0</td>\n",
       "      <td>Se planeo dentro del sprint la participación d...</td>\n",
       "      <td>Se deben incluir revisiones de UX en los proce...</td>\n",
       "      <td>Se planeo dentro del sprint la participación d...</td>\n",
       "      <td>se planeo dentro del sprint la participación d...</td>\n",
       "    </tr>\n",
       "    <tr>\n",
       "      <td>1</td>\n",
       "      <td>Integrantes de parte de Sodimac debian constru...</td>\n",
       "      <td>Asegurar que la planeación y ejecución del Spr...</td>\n",
       "      <td>Integrantes de parte de Sodimac debian constru...</td>\n",
       "      <td>integrantes de parte de sodimac debian constru...</td>\n",
       "    </tr>\n",
       "    <tr>\n",
       "      <td>2</td>\n",
       "      <td>Se presentó el cambio de tres analistas de cal...</td>\n",
       "      <td>Se presentan demoras en el acoplamiento del eq...</td>\n",
       "      <td>Se presentó el cambio de tres analistas de cal...</td>\n",
       "      <td>se presentó el cambio de tres analistas de cal...</td>\n",
       "    </tr>\n",
       "    <tr>\n",
       "      <td>3</td>\n",
       "      <td>Cuando en pruebas de aceptación se generaban d...</td>\n",
       "      <td>Se estableció la generación de ramas para cada...</td>\n",
       "      <td>Cuando en pruebas de aceptación se generaban d...</td>\n",
       "      <td>cuando en pruebas de aceptación se generaban d...</td>\n",
       "    </tr>\n",
       "    <tr>\n",
       "      <td>4</td>\n",
       "      <td>Asesoftware participó en la definición,\\n cons...</td>\n",
       "      <td>La definición, modelo de implementación técnic...</td>\n",
       "      <td>Asesoftware participó en la definición,  const...</td>\n",
       "      <td>asesoftware participó en la definición constru...</td>\n",
       "    </tr>\n",
       "  </tbody>\n",
       "</table>\n",
       "</div>"
      ],
      "text/plain": [
       "                                            CONTEXTO  \\\n",
       "0  Se planeo dentro del sprint la participación d...   \n",
       "1  Integrantes de parte de Sodimac debian constru...   \n",
       "2  Se presentó el cambio de tres analistas de cal...   \n",
       "3  Cuando en pruebas de aceptación se generaban d...   \n",
       "4  Asesoftware participó en la definición,\\n cons...   \n",
       "\n",
       "                                LECCIONES APRENDIDAS  \\\n",
       "0  Se deben incluir revisiones de UX en los proce...   \n",
       "1  Asegurar que la planeación y ejecución del Spr...   \n",
       "2  Se presentan demoras en el acoplamiento del eq...   \n",
       "3  Se estableció la generación de ramas para cada...   \n",
       "4  La definición, modelo de implementación técnic...   \n",
       "\n",
       "                                         CONTEX_LECC  \\\n",
       "0  Se planeo dentro del sprint la participación d...   \n",
       "1  Integrantes de parte de Sodimac debian constru...   \n",
       "2  Se presentó el cambio de tres analistas de cal...   \n",
       "3  Cuando en pruebas de aceptación se generaban d...   \n",
       "4  Asesoftware participó en la definición,  const...   \n",
       "\n",
       "                                 CLEANED_CONTEX_LECC  \n",
       "0  se planeo dentro del sprint la participación d...  \n",
       "1  integrantes de parte de sodimac debian constru...  \n",
       "2  se presentó el cambio de tres analistas de cal...  \n",
       "3  cuando en pruebas de aceptación se generaban d...  \n",
       "4  asesoftware participó en la definición constru...  "
      ]
     },
     "execution_count": 8,
     "metadata": {},
     "output_type": "execute_result"
    }
   ],
   "source": [
    "data['CLEANED_CONTEX_LECC'] = data['CONTEX_LECC'].str.lower().str.replace('[^\\w\\s]',' ').str.replace('\\s+', ' ')\n",
    "data.head()"
   ]
  },
  {
   "cell_type": "markdown",
   "metadata": {},
   "source": [
    "Ahora, necesitaremos hacer dos pruebas, una en la que entrenaremos un modelo Word2Vec (w2v) con las stopwords y otra en la que entrenaremos otro modelo sin las stopwords. Por lo que ahora tomaremos la columna __CLEANED_CONTEX_LECC__ y eliminares las stopwords. El resuldato se podrá ver en la nueva columna llamada __WITHOUT_STOPW__"
   ]
  },
  {
   "cell_type": "code",
   "execution_count": 9,
   "metadata": {},
   "outputs": [
    {
     "data": {
      "text/html": [
       "<div>\n",
       "<style scoped>\n",
       "    .dataframe tbody tr th:only-of-type {\n",
       "        vertical-align: middle;\n",
       "    }\n",
       "\n",
       "    .dataframe tbody tr th {\n",
       "        vertical-align: top;\n",
       "    }\n",
       "\n",
       "    .dataframe thead th {\n",
       "        text-align: right;\n",
       "    }\n",
       "</style>\n",
       "<table border=\"1\" class=\"dataframe\">\n",
       "  <thead>\n",
       "    <tr style=\"text-align: right;\">\n",
       "      <th></th>\n",
       "      <th>CONTEXTO</th>\n",
       "      <th>LECCIONES APRENDIDAS</th>\n",
       "      <th>CONTEX_LECC</th>\n",
       "      <th>CLEANED_CONTEX_LECC</th>\n",
       "      <th>WITHOUT_STOPW</th>\n",
       "    </tr>\n",
       "  </thead>\n",
       "  <tbody>\n",
       "    <tr>\n",
       "      <td>0</td>\n",
       "      <td>Se planeo dentro del sprint la participación d...</td>\n",
       "      <td>Se deben incluir revisiones de UX en los proce...</td>\n",
       "      <td>Se planeo dentro del sprint la participación d...</td>\n",
       "      <td>se planeo dentro del sprint la participación d...</td>\n",
       "      <td>planeo sprint participación diseñadora ux incl...</td>\n",
       "    </tr>\n",
       "    <tr>\n",
       "      <td>1</td>\n",
       "      <td>Integrantes de parte de Sodimac debian constru...</td>\n",
       "      <td>Asegurar que la planeación y ejecución del Spr...</td>\n",
       "      <td>Integrantes de parte de Sodimac debian constru...</td>\n",
       "      <td>integrantes de parte de sodimac debian constru...</td>\n",
       "      <td>integrantes sodimac debian construir component...</td>\n",
       "    </tr>\n",
       "    <tr>\n",
       "      <td>2</td>\n",
       "      <td>Se presentó el cambio de tres analistas de cal...</td>\n",
       "      <td>Se presentan demoras en el acoplamiento del eq...</td>\n",
       "      <td>Se presentó el cambio de tres analistas de cal...</td>\n",
       "      <td>se presentó el cambio de tres analistas de cal...</td>\n",
       "      <td>presentó cambio analistas caldiad proyecto pre...</td>\n",
       "    </tr>\n",
       "    <tr>\n",
       "      <td>3</td>\n",
       "      <td>Cuando en pruebas de aceptación se generaban d...</td>\n",
       "      <td>Se estableció la generación de ramas para cada...</td>\n",
       "      <td>Cuando en pruebas de aceptación se generaban d...</td>\n",
       "      <td>cuando en pruebas de aceptación se generaban d...</td>\n",
       "      <td>pruebas aceptación generaban defectos necesari...</td>\n",
       "    </tr>\n",
       "    <tr>\n",
       "      <td>4</td>\n",
       "      <td>Asesoftware participó en la definición,\\n cons...</td>\n",
       "      <td>La definición, modelo de implementación técnic...</td>\n",
       "      <td>Asesoftware participó en la definición,  const...</td>\n",
       "      <td>asesoftware participó en la definición constru...</td>\n",
       "      <td>asesoftware participó definición construcción ...</td>\n",
       "    </tr>\n",
       "  </tbody>\n",
       "</table>\n",
       "</div>"
      ],
      "text/plain": [
       "                                            CONTEXTO  \\\n",
       "0  Se planeo dentro del sprint la participación d...   \n",
       "1  Integrantes de parte de Sodimac debian constru...   \n",
       "2  Se presentó el cambio de tres analistas de cal...   \n",
       "3  Cuando en pruebas de aceptación se generaban d...   \n",
       "4  Asesoftware participó en la definición,\\n cons...   \n",
       "\n",
       "                                LECCIONES APRENDIDAS  \\\n",
       "0  Se deben incluir revisiones de UX en los proce...   \n",
       "1  Asegurar que la planeación y ejecución del Spr...   \n",
       "2  Se presentan demoras en el acoplamiento del eq...   \n",
       "3  Se estableció la generación de ramas para cada...   \n",
       "4  La definición, modelo de implementación técnic...   \n",
       "\n",
       "                                         CONTEX_LECC  \\\n",
       "0  Se planeo dentro del sprint la participación d...   \n",
       "1  Integrantes de parte de Sodimac debian constru...   \n",
       "2  Se presentó el cambio de tres analistas de cal...   \n",
       "3  Cuando en pruebas de aceptación se generaban d...   \n",
       "4  Asesoftware participó en la definición,  const...   \n",
       "\n",
       "                                 CLEANED_CONTEX_LECC  \\\n",
       "0  se planeo dentro del sprint la participación d...   \n",
       "1  integrantes de parte de sodimac debian constru...   \n",
       "2  se presentó el cambio de tres analistas de cal...   \n",
       "3  cuando en pruebas de aceptación se generaban d...   \n",
       "4  asesoftware participó en la definición constru...   \n",
       "\n",
       "                                       WITHOUT_STOPW  \n",
       "0  planeo sprint participación diseñadora ux incl...  \n",
       "1  integrantes sodimac debian construir component...  \n",
       "2  presentó cambio analistas caldiad proyecto pre...  \n",
       "3  pruebas aceptación generaban defectos necesari...  \n",
       "4  asesoftware participó definición construcción ...  "
      ]
     },
     "execution_count": 9,
     "metadata": {},
     "output_type": "execute_result"
    }
   ],
   "source": [
    "#txt = [cleaning(doc) for doc in nlp.pipe(data.CLEANED_CONTEX_LECC, n_threads=-1)]\n",
    "brief_cleaning = data['CLEANED_CONTEX_LECC']\n",
    "#txt = [cleaning(doc) for doc in nlp.pipe(brief_cleaning, batch_size=5000, n_threads=-1)]\n",
    "data['WITHOUT_STOPW'] = [cleaning(doc) for doc in nlp.pipe(brief_cleaning, batch_size=5000, n_threads=-1)]\n",
    "data.head()"
   ]
  },
  {
   "cell_type": "markdown",
   "metadata": {},
   "source": [
    "Entrenamiento del modelo."
   ]
  },
  {
   "cell_type": "code",
   "execution_count": 10,
   "metadata": {},
   "outputs": [],
   "source": [
    "cores = multiprocessing.cpu_count()\n",
    "\n",
    "\n",
    "w2v_model = Word2Vec(workers=1, seed=123)\n",
    "w2v_model_sw = Word2Vec(workers=1, seed=123)\n",
    "\n",
    "\n",
    "sentences_1 = data.CLEANED_CONTEX_LECC.str.split()\n",
    "sentences_2 = data.WITHOUT_STOPW.str.split()\n",
    "sentences_2 = sentences_2.dropna()\n",
    "\n",
    "#Entrenamiento del modelo con stopwords\n",
    "w2v_model.build_vocab(sentences_1, progress_per=10000)\n",
    "w2v_model.train(sentences_1, total_examples=w2v_model.corpus_count, epochs=30, report_delay=1)\n",
    "w2v_model.init_sims(replace=True)\n",
    "\n",
    "#Entrenamiento del modelo sin stopwords\n",
    "w2v_model_sw.build_vocab(sentences_2, progress_per=10000)\n",
    "w2v_model_sw.train(sentences_2, total_examples=w2v_model_sw.corpus_count, epochs=30, report_delay=1)\n",
    "w2v_model_sw.init_sims(replace=True)"
   ]
  },
  {
   "cell_type": "code",
   "execution_count": 11,
   "metadata": {},
   "outputs": [
    {
     "name": "stdout",
     "output_type": "stream",
     "text": [
      "El modelo con stopwords tiene 839 palabras en su vocabulario\n",
      "El modelo sin stopwords tiene 632 palabras en su vocabulario\n"
     ]
    }
   ],
   "source": [
    "print(\"El modelo con stopwords tiene %d palabras en su vocabulario\" % len(w2v_model.wv.vocab.keys()))\n",
    "print(\"El modelo sin stopwords tiene %d palabras en su vocabulario\" % len(w2v_model_sw.wv.vocab.keys()))"
   ]
  },
  {
   "cell_type": "markdown",
   "metadata": {},
   "source": [
    "### Miremos las 15 palabras más cercanas (similares) a _asesoftware_ para cada modelo"
   ]
  },
  {
   "cell_type": "markdown",
   "metadata": {},
   "source": [
    "Modelo con stopwords"
   ]
  },
  {
   "cell_type": "code",
   "execution_count": 12,
   "metadata": {
    "scrolled": true
   },
   "outputs": [
    {
     "data": {
      "text/plain": [
       "[('ser', 0.8983310461044312),\n",
       " ('esto', 0.8982137441635132),\n",
       " ('insatisfacción', 0.882929801940918),\n",
       " ('incumplimiento', 0.8754848837852478),\n",
       " ('por', 0.8722720146179199),\n",
       " ('lideres', 0.870297372341156),\n",
       " ('ende', 0.8664594888687134),\n",
       " ('tanto', 0.8657562136650085),\n",
       " ('tenia', 0.8644993305206299),\n",
       " ('otros', 0.8603219389915466),\n",
       " ('mayor', 0.8592894673347473),\n",
       " ('compromiso', 0.8576959371566772),\n",
       " ('debido', 0.8553922176361084),\n",
       " ('pero', 0.852875828742981),\n",
       " ('otra', 0.8493099808692932)]"
      ]
     },
     "execution_count": 12,
     "metadata": {},
     "output_type": "execute_result"
    }
   ],
   "source": [
    "w2v_model.wv.most_similar(positive=['asesoftware'], topn=15)"
   ]
  },
  {
   "cell_type": "markdown",
   "metadata": {},
   "source": [
    "Modelo sin stopwords"
   ]
  },
  {
   "cell_type": "code",
   "execution_count": 13,
   "metadata": {},
   "outputs": [
    {
     "data": {
      "text/plain": [
       "[('empresa', 0.9976372718811035),\n",
       " ('entidades', 0.9975683093070984),\n",
       " ('instalaciones', 0.9973236918449402),\n",
       " ('a', 0.9972591996192932),\n",
       " ('personal', 0.9970685243606567),\n",
       " ('soporte', 0.9968889951705933),\n",
       " ('realizadas', 0.9967949986457825),\n",
       " ('servicio', 0.996716320514679),\n",
       " ('razón', 0.9965468049049377),\n",
       " ('respuesta', 0.9964249730110168),\n",
       " ('clientes', 0.9962949752807617),\n",
       " ('ans', 0.9962491989135742),\n",
       " ('ocasiones', 0.9962224960327148),\n",
       " ('evaluar', 0.9961560964584351),\n",
       " ('mejora', 0.9960787296295166)]"
      ]
     },
     "execution_count": 13,
     "metadata": {},
     "output_type": "execute_result"
    }
   ],
   "source": [
    "w2v_model_sw.wv.most_similar('asesoftware', topn=15)"
   ]
  },
  {
   "cell_type": "markdown",
   "metadata": {},
   "source": [
    "De los resultados podemos descartar el modelo sin las stopwords ya que muestra que todas las palabras estas muy cercanas entre si (0.99 mínimo). Los resultados que tienen más congruencia son los del modelo entrenado con stopwords. Ahora, para dar mayor valor a estos resultados, ahora si filtremos las stopwords."
   ]
  },
  {
   "cell_type": "code",
   "execution_count": 14,
   "metadata": {},
   "outputs": [
    {
     "data": {
      "text/plain": [
       "[('insatisfacción', 0.882929801940918),\n",
       " ('incumplimiento', 0.8754848837852478),\n",
       " ('lideres', 0.870297372341156),\n",
       " ('ende', 0.8664594888687134),\n",
       " ('compromiso', 0.8576959371566772),\n",
       " ('respuesta', 0.8464267253875732),\n",
       " ('interno', 0.8460021018981934),\n",
       " ('tunja', 0.8445018529891968),\n",
       " ('inconformidad', 0.8428367376327515),\n",
       " ('realizadas', 0.8415094017982483)]"
      ]
     },
     "execution_count": 14,
     "metadata": {},
     "output_type": "execute_result"
    }
   ],
   "source": [
    "w2v_model.wv.most_similar(positive=['asesoftware'], topn=15)\n",
    "stopwords = nlp.Defaults.stop_words\n",
    "\n",
    "spanish_stopwords = ['y', 'e', 'a', 'o', 'u', 'tenia'] #Agregaremos esta lista a las stopwords de spacy\n",
    "\n",
    "for word in spanish_stopwords:\n",
    "    stopwords.add(word)\n",
    "\n",
    "filter_stopwords(w2v_model.wv.most_similar('asesoftware', topn=20), stopwords)"
   ]
  },
  {
   "cell_type": "markdown",
   "metadata": {},
   "source": [
    "___"
   ]
  }
 ],
 "metadata": {
  "kernelspec": {
   "display_name": "Python 3",
   "language": "python",
   "name": "python3"
  },
  "language_info": {
   "codemirror_mode": {
    "name": "ipython",
    "version": 3
   },
   "file_extension": ".py",
   "mimetype": "text/x-python",
   "name": "python",
   "nbconvert_exporter": "python",
   "pygments_lexer": "ipython3",
   "version": "3.6.5"
  }
 },
 "nbformat": 4,
 "nbformat_minor": 2
}
